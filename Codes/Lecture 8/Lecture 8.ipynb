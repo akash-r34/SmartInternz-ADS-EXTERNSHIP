{
 "cells": [
  {
   "cell_type": "markdown",
   "id": "eb29d787",
   "metadata": {},
   "source": [
    "# Statistics"
   ]
  },
  {
   "cell_type": "markdown",
   "id": "1826b008",
   "metadata": {},
   "source": [
    "## Importing necessary libraries"
   ]
  },
  {
   "cell_type": "code",
   "execution_count": 1,
   "id": "b2df575e",
   "metadata": {},
   "outputs": [],
   "source": [
    "import numpy as np\n",
    "import pandas as pd\n",
    "import matplotlib.pyplot as plt\n",
    "import seaborn as sns"
   ]
  },
  {
   "cell_type": "markdown",
   "id": "16b1ae2c",
   "metadata": {},
   "source": [
    "## Load dataset"
   ]
  },
  {
   "cell_type": "code",
   "execution_count": 2,
   "id": "df279595",
   "metadata": {},
   "outputs": [],
   "source": [
    "data = sns.load_dataset('tips')"
   ]
  },
  {
   "cell_type": "code",
   "execution_count": 3,
   "id": "8447487b",
   "metadata": {},
   "outputs": [
    {
     "name": "stdout",
     "output_type": "stream",
     "text": [
      "<class 'pandas.core.frame.DataFrame'>\n",
      "RangeIndex: 244 entries, 0 to 243\n",
      "Data columns (total 7 columns):\n",
      " #   Column      Non-Null Count  Dtype   \n",
      "---  ------      --------------  -----   \n",
      " 0   total_bill  244 non-null    float64 \n",
      " 1   tip         244 non-null    float64 \n",
      " 2   sex         244 non-null    category\n",
      " 3   smoker      244 non-null    category\n",
      " 4   day         244 non-null    category\n",
      " 5   time        244 non-null    category\n",
      " 6   size        244 non-null    int64   \n",
      "dtypes: category(4), float64(2), int64(1)\n",
      "memory usage: 7.4 KB\n"
     ]
    }
   ],
   "source": [
    "data.info()"
   ]
  },
  {
   "cell_type": "code",
   "execution_count": 4,
   "id": "b27655c9",
   "metadata": {},
   "outputs": [
    {
     "data": {
      "text/plain": [
       "(244, 7)"
      ]
     },
     "execution_count": 4,
     "metadata": {},
     "output_type": "execute_result"
    }
   ],
   "source": [
    "data.shape"
   ]
  },
  {
   "cell_type": "markdown",
   "id": "b8458244",
   "metadata": {},
   "source": [
    "## Measure of central tendency - Mean, Median and Mode"
   ]
  },
  {
   "cell_type": "code",
   "execution_count": 5,
   "id": "b6e4e923",
   "metadata": {},
   "outputs": [
    {
     "name": "stderr",
     "output_type": "stream",
     "text": [
      "/var/folders/03/k1p5_v6d69bg7b999gdktlgw0000gn/T/ipykernel_5030/531903386.py:1: FutureWarning: The default value of numeric_only in DataFrame.mean is deprecated. In a future version, it will default to False. In addition, specifying 'numeric_only=None' is deprecated. Select only valid columns or specify the value of numeric_only to silence this warning.\n",
      "  data.mean()\n"
     ]
    },
    {
     "data": {
      "text/plain": [
       "total_bill    19.785943\n",
       "tip            2.998279\n",
       "size           2.569672\n",
       "dtype: float64"
      ]
     },
     "execution_count": 5,
     "metadata": {},
     "output_type": "execute_result"
    }
   ],
   "source": [
    "data.mean()"
   ]
  },
  {
   "cell_type": "code",
   "execution_count": 6,
   "id": "69a69b1a",
   "metadata": {},
   "outputs": [
    {
     "name": "stderr",
     "output_type": "stream",
     "text": [
      "/var/folders/03/k1p5_v6d69bg7b999gdktlgw0000gn/T/ipykernel_5030/4184645713.py:1: FutureWarning: The default value of numeric_only in DataFrame.median is deprecated. In a future version, it will default to False. In addition, specifying 'numeric_only=None' is deprecated. Select only valid columns or specify the value of numeric_only to silence this warning.\n",
      "  data.median()\n"
     ]
    },
    {
     "data": {
      "text/plain": [
       "total_bill    17.795\n",
       "tip            2.900\n",
       "size           2.000\n",
       "dtype: float64"
      ]
     },
     "execution_count": 6,
     "metadata": {},
     "output_type": "execute_result"
    }
   ],
   "source": [
    "data.median()"
   ]
  },
  {
   "cell_type": "code",
   "execution_count": 7,
   "id": "7dc10e56",
   "metadata": {},
   "outputs": [
    {
     "data": {
      "text/html": [
       "<div>\n",
       "<style scoped>\n",
       "    .dataframe tbody tr th:only-of-type {\n",
       "        vertical-align: middle;\n",
       "    }\n",
       "\n",
       "    .dataframe tbody tr th {\n",
       "        vertical-align: top;\n",
       "    }\n",
       "\n",
       "    .dataframe thead th {\n",
       "        text-align: right;\n",
       "    }\n",
       "</style>\n",
       "<table border=\"1\" class=\"dataframe\">\n",
       "  <thead>\n",
       "    <tr style=\"text-align: right;\">\n",
       "      <th></th>\n",
       "      <th>total_bill</th>\n",
       "      <th>tip</th>\n",
       "      <th>sex</th>\n",
       "      <th>smoker</th>\n",
       "      <th>day</th>\n",
       "      <th>time</th>\n",
       "      <th>size</th>\n",
       "    </tr>\n",
       "  </thead>\n",
       "  <tbody>\n",
       "    <tr>\n",
       "      <th>0</th>\n",
       "      <td>13.42</td>\n",
       "      <td>2.0</td>\n",
       "      <td>Male</td>\n",
       "      <td>No</td>\n",
       "      <td>Sat</td>\n",
       "      <td>Dinner</td>\n",
       "      <td>2</td>\n",
       "    </tr>\n",
       "  </tbody>\n",
       "</table>\n",
       "</div>"
      ],
      "text/plain": [
       "   total_bill  tip   sex smoker  day    time  size\n",
       "0       13.42  2.0  Male     No  Sat  Dinner     2"
      ]
     },
     "execution_count": 7,
     "metadata": {},
     "output_type": "execute_result"
    }
   ],
   "source": [
    "data.mode()"
   ]
  },
  {
   "cell_type": "markdown",
   "id": "6933f0b7",
   "metadata": {},
   "source": [
    "## Skewness"
   ]
  },
  {
   "cell_type": "code",
   "execution_count": 8,
   "id": "383c8a63",
   "metadata": {},
   "outputs": [
    {
     "name": "stderr",
     "output_type": "stream",
     "text": [
      "/var/folders/03/k1p5_v6d69bg7b999gdktlgw0000gn/T/ipykernel_5030/1188251951.py:1: FutureWarning: The default value of numeric_only in DataFrame.skew is deprecated. In a future version, it will default to False. In addition, specifying 'numeric_only=None' is deprecated. Select only valid columns or specify the value of numeric_only to silence this warning.\n",
      "  data.skew()\n"
     ]
    },
    {
     "data": {
      "text/plain": [
       "total_bill    1.133213\n",
       "tip           1.465451\n",
       "size          1.447882\n",
       "dtype: float64"
      ]
     },
     "execution_count": 8,
     "metadata": {},
     "output_type": "execute_result"
    }
   ],
   "source": [
    "data.skew()"
   ]
  },
  {
   "cell_type": "markdown",
   "id": "0c414929",
   "metadata": {},
   "source": [
    "## Distribution plot\n"
   ]
  },
  {
   "cell_type": "code",
   "execution_count": 9,
   "id": "7e1a2cec",
   "metadata": {},
   "outputs": [
    {
     "name": "stderr",
     "output_type": "stream",
     "text": [
      "/var/folders/03/k1p5_v6d69bg7b999gdktlgw0000gn/T/ipykernel_5030/1692055996.py:1: UserWarning: \n",
      "\n",
      "`distplot` is a deprecated function and will be removed in seaborn v0.14.0.\n",
      "\n",
      "Please adapt your code to use either `displot` (a figure-level function with\n",
      "similar flexibility) or `histplot` (an axes-level function for histograms).\n",
      "\n",
      "For a guide to updating your code to use the new functions, please see\n",
      "https://gist.github.com/mwaskom/de44147ed2974457ad6372750bbe5751\n",
      "\n",
      "  sns.distplot(data['tip'])\n"
     ]
    },
    {
     "data": {
      "text/plain": [
       "<Axes: xlabel='tip', ylabel='Density'>"
      ]
     },
     "execution_count": 9,
     "metadata": {},
     "output_type": "execute_result"
    },
    {
     "data": {
      "image/png": "[encoded data removed]",
      "text/plain": [
       "<Figure size 640x480 with 1 Axes>"
      ]
     },
     "metadata": {},
     "output_type": "display_data"
    }
   ],
   "source": [
    "sns.distplot(data['tip'])"
   ]
  },
  {
   "cell_type": "code",
   "execution_count": 10,
   "id": "62dc209c",
   "metadata": {},
   "outputs": [
    {
     "name": "stderr",
     "output_type": "stream",
     "text": [
      "/var/folders/03/k1p5_v6d69bg7b999gdktlgw0000gn/T/ipykernel_5030/3112811999.py:1: UserWarning: \n",
      "\n",
      "`distplot` is a deprecated function and will be removed in seaborn v0.14.0.\n",
      "\n",
      "Please adapt your code to use either `displot` (a figure-level function with\n",
      "similar flexibility) or `histplot` (an axes-level function for histograms).\n",
      "\n",
      "For a guide to updating your code to use the new functions, please see\n",
      "https://gist.github.com/mwaskom/de44147ed2974457ad6372750bbe5751\n",
      "\n",
      "  sns.distplot(data['total_bill'], color = 'b')\n"
     ]
    },
    {
     "data": {
      "text/plain": [
       "<Axes: xlabel='total_bill', ylabel='Density'>"
      ]
     },
     "execution_count": 10,
     "metadata": {},
     "output_type": "execute_result"
    },
    {
     "data": {
      "image/png": "[encoded data removed]",
      "text/plain": [
       "<Figure size 640x480 with 1 Axes>"
      ]
     },
     "metadata": {},
     "output_type": "display_data"
    }
   ],
   "source": [
    "sns.distplot(data['total_bill'], color = 'b')"
   ]
  },
  {
   "cell_type": "markdown",
   "id": "32d84445",
   "metadata": {},
   "source": [
    "## Kurtosis"
   ]
  },
  {
   "cell_type": "code",
   "execution_count": 11,
   "id": "1ad48651",
   "metadata": {},
   "outputs": [
    {
     "name": "stderr",
     "output_type": "stream",
     "text": [
      "/var/folders/03/k1p5_v6d69bg7b999gdktlgw0000gn/T/ipykernel_5030/2907027414.py:1: FutureWarning: The default value of numeric_only in DataFrame.kurt is deprecated. In a future version, it will default to False. In addition, specifying 'numeric_only=None' is deprecated. Select only valid columns or specify the value of numeric_only to silence this warning.\n",
      "  data.kurt()\n"
     ]
    },
    {
     "data": {
      "text/plain": [
       "total_bill    1.218484\n",
       "tip           3.648376\n",
       "size          1.731700\n",
       "dtype: float64"
      ]
     },
     "execution_count": 11,
     "metadata": {},
     "output_type": "execute_result"
    }
   ],
   "source": [
    "data.kurt()"
   ]
  },
  {
   "cell_type": "markdown",
   "id": "2b0abca8",
   "metadata": {},
   "source": [
    "## Range"
   ]
  },
  {
   "cell_type": "code",
   "execution_count": 12,
   "id": "86218ff1",
   "metadata": {},
   "outputs": [
    {
     "name": "stderr",
     "output_type": "stream",
     "text": [
      "/var/folders/03/k1p5_v6d69bg7b999gdktlgw0000gn/T/ipykernel_5030/2904433368.py:1: FutureWarning: The default value of numeric_only in DataFrame.max is deprecated. In a future version, it will default to False. In addition, specifying 'numeric_only=None' is deprecated. Select only valid columns or specify the value of numeric_only to silence this warning.\n",
      "  data.max()\n"
     ]
    },
    {
     "data": {
      "text/plain": [
       "total_bill    50.81\n",
       "tip           10.00\n",
       "size           6.00\n",
       "dtype: float64"
      ]
     },
     "execution_count": 12,
     "metadata": {},
     "output_type": "execute_result"
    }
   ],
   "source": [
    "data.max()"
   ]
  },
  {
   "cell_type": "code",
   "execution_count": 13,
   "id": "51d67b0e",
   "metadata": {},
   "outputs": [
    {
     "name": "stderr",
     "output_type": "stream",
     "text": [
      "/var/folders/03/k1p5_v6d69bg7b999gdktlgw0000gn/T/ipykernel_5030/927168777.py:1: FutureWarning: The default value of numeric_only in DataFrame.min is deprecated. In a future version, it will default to False. In addition, specifying 'numeric_only=None' is deprecated. Select only valid columns or specify the value of numeric_only to silence this warning.\n",
      "  data.min()\n"
     ]
    },
    {
     "data": {
      "text/plain": [
       "total_bill    3.07\n",
       "tip           1.00\n",
       "size          1.00\n",
       "dtype: float64"
      ]
     },
     "execution_count": 13,
     "metadata": {},
     "output_type": "execute_result"
    }
   ],
   "source": [
    "data.min()"
   ]
  },
  {
   "cell_type": "code",
   "execution_count": 14,
   "id": "11f12f82",
   "metadata": {},
   "outputs": [
    {
     "name": "stdout",
     "output_type": "stream",
     "text": [
      "total_bill    47.74\n",
      "tip            9.00\n",
      "size           5.00\n",
      "dtype: float64\n"
     ]
    },
    {
     "name": "stderr",
     "output_type": "stream",
     "text": [
      "/var/folders/03/k1p5_v6d69bg7b999gdktlgw0000gn/T/ipykernel_5030/2656667832.py:1: FutureWarning: The default value of numeric_only in DataFrame.max is deprecated. In a future version, it will default to False. In addition, specifying 'numeric_only=None' is deprecated. Select only valid columns or specify the value of numeric_only to silence this warning.\n",
      "  Range = data.max() - data.min()\n",
      "/var/folders/03/k1p5_v6d69bg7b999gdktlgw0000gn/T/ipykernel_5030/2656667832.py:1: FutureWarning: The default value of numeric_only in DataFrame.min is deprecated. In a future version, it will default to False. In addition, specifying 'numeric_only=None' is deprecated. Select only valid columns or specify the value of numeric_only to silence this warning.\n",
      "  Range = data.max() - data.min()\n"
     ]
    }
   ],
   "source": [
    "Range = data.max() - data.min()\n",
    "print(Range)"
   ]
  },
  {
   "cell_type": "markdown",
   "id": "f148e174",
   "metadata": {},
   "source": [
    "## Pairplot"
   ]
  },
  {
   "cell_type": "code",
   "execution_count": 15,
   "id": "5026a261",
   "metadata": {},
   "outputs": [
    {
     "data": {
      "text/plain": [
       "<seaborn.axisgrid.PairGrid at 0x130d38250>"
      ]
     },
     "execution_count": 15,
     "metadata": {},
     "output_type": "execute_result"
    },
    {
     "data": {
      "image/png": "[encoded data removed]",
      "text/plain": [
       "<Figure size 750x750 with 12 Axes>"
      ]
     },
     "metadata": {},
     "output_type": "display_data"
    }
   ],
   "source": [
    "sns.pairplot(data)"
   ]
  },
  {
   "cell_type": "markdown",
   "id": "f256c5aa",
   "metadata": {},
   "source": [
    "## Interquartile range"
   ]
  },
  {
   "cell_type": "code",
   "execution_count": 16,
   "id": "33f2aca7",
   "metadata": {},
   "outputs": [
    {
     "name": "stderr",
     "output_type": "stream",
     "text": [
      "/var/folders/03/k1p5_v6d69bg7b999gdktlgw0000gn/T/ipykernel_5030/2995186764.py:1: FutureWarning: The default value of numeric_only in DataFrame.quantile is deprecated. In a future version, it will default to False. Select only valid columns or specify the value of numeric_only to silence this warning.\n",
      "  quantiles = data.quantile(q=[0.75, 0.25])\n"
     ]
    },
    {
     "data": {
      "text/html": [
       "<div>\n",
       "<style scoped>\n",
       "    .dataframe tbody tr th:only-of-type {\n",
       "        vertical-align: middle;\n",
       "    }\n",
       "\n",
       "    .dataframe tbody tr th {\n",
       "        vertical-align: top;\n",
       "    }\n",
       "\n",
       "    .dataframe thead th {\n",
       "        text-align: right;\n",
       "    }\n",
       "</style>\n",
       "<table border=\"1\" class=\"dataframe\">\n",
       "  <thead>\n",
       "    <tr style=\"text-align: right;\">\n",
       "      <th></th>\n",
       "      <th>total_bill</th>\n",
       "      <th>tip</th>\n",
       "      <th>size</th>\n",
       "    </tr>\n",
       "  </thead>\n",
       "  <tbody>\n",
       "    <tr>\n",
       "      <th>0.75</th>\n",
       "      <td>24.1275</td>\n",
       "      <td>3.5625</td>\n",
       "      <td>3.0</td>\n",
       "    </tr>\n",
       "    <tr>\n",
       "      <th>0.25</th>\n",
       "      <td>13.3475</td>\n",
       "      <td>2.0000</td>\n",
       "      <td>2.0</td>\n",
       "    </tr>\n",
       "  </tbody>\n",
       "</table>\n",
       "</div>"
      ],
      "text/plain": [
       "      total_bill     tip  size\n",
       "0.75     24.1275  3.5625   3.0\n",
       "0.25     13.3475  2.0000   2.0"
      ]
     },
     "execution_count": 16,
     "metadata": {},
     "output_type": "execute_result"
    }
   ],
   "source": [
    "quantiles = data.quantile(q=[0.75, 0.25])\n",
    "quantiles"
   ]
  },
  {
   "cell_type": "code",
   "execution_count": 17,
   "id": "6431590e",
   "metadata": {},
   "outputs": [
    {
     "data": {
      "text/plain": [
       "total_bill    24.1275\n",
       "tip            3.5625\n",
       "size           3.0000\n",
       "Name: 0.75, dtype: float64"
      ]
     },
     "execution_count": 17,
     "metadata": {},
     "output_type": "execute_result"
    }
   ],
   "source": [
    "#Q3\n",
    "quantiles.iloc[0]"
   ]
  },
  {
   "cell_type": "code",
   "execution_count": 18,
   "id": "c57cce06",
   "metadata": {},
   "outputs": [
    {
     "data": {
      "text/plain": [
       "total_bill    13.3475\n",
       "tip            2.0000\n",
       "size           2.0000\n",
       "Name: 0.25, dtype: float64"
      ]
     },
     "execution_count": 18,
     "metadata": {},
     "output_type": "execute_result"
    }
   ],
   "source": [
    "#Q1\n",
    "quantiles.iloc[1]"
   ]
  },
  {
   "cell_type": "code",
   "execution_count": 19,
   "id": "05283578",
   "metadata": {},
   "outputs": [
    {
     "data": {
      "text/plain": [
       "total_bill    10.7800\n",
       "tip            1.5625\n",
       "size           1.0000\n",
       "dtype: float64"
      ]
     },
     "execution_count": 19,
     "metadata": {},
     "output_type": "execute_result"
    }
   ],
   "source": [
    "IQR = quantiles.iloc[0]-quantiles.iloc[1]\n",
    "IQR"
   ]
  },
  {
   "cell_type": "markdown",
   "id": "45374422",
   "metadata": {},
   "source": [
    "## Upper extreme\n",
    "Q3 + 1.5*IQR\n"
   ]
  },
  {
   "cell_type": "code",
   "execution_count": 20,
   "id": "ec02a5aa",
   "metadata": {},
   "outputs": [
    {
     "data": {
      "text/plain": [
       "total_bill    40.29750\n",
       "tip            5.90625\n",
       "size           4.50000\n",
       "dtype: float64"
      ]
     },
     "execution_count": 20,
     "metadata": {},
     "output_type": "execute_result"
    }
   ],
   "source": [
    "quantiles.iloc[0] + (1.5*IQR)"
   ]
  },
  {
   "cell_type": "markdown",
   "id": "d00017f6",
   "metadata": {},
   "source": [
    "## Lower extreme\n",
    "Q1 - 1.5*IQR"
   ]
  },
  {
   "cell_type": "code",
   "execution_count": 21,
   "id": "941810a6",
   "metadata": {},
   "outputs": [
    {
     "data": {
      "text/plain": [
       "total_bill   -2.82250\n",
       "tip          -0.34375\n",
       "size          0.50000\n",
       "dtype: float64"
      ]
     },
     "execution_count": 21,
     "metadata": {},
     "output_type": "execute_result"
    }
   ],
   "source": [
    "quantiles.iloc[1] - (1.5*IQR)"
   ]
  },
  {
   "cell_type": "markdown",
   "id": "82e03e05",
   "metadata": {},
   "source": [
    "## Boxplot"
   ]
  },
  {
   "cell_type": "code",
   "execution_count": 22,
   "id": "9a4d1c91",
   "metadata": {},
   "outputs": [
    {
     "data": {
      "text/plain": [
       "<Axes: >"
      ]
     },
     "execution_count": 22,
     "metadata": {},
     "output_type": "execute_result"
    },
    {
     "data": {
      "image/png": "[encoded data removed]",
      "text/plain": [
       "<Figure size 640x480 with 1 Axes>"
      ]
     },
     "metadata": {},
     "output_type": "display_data"
    }
   ],
   "source": [
    "sns.boxplot(data['total_bill'])"
   ]
  },
  {
   "cell_type": "markdown",
   "id": "4bc05128",
   "metadata": {},
   "source": [
    "## Standard deviation"
   ]
  },
  {
   "cell_type": "code",
   "execution_count": 23,
   "id": "3449354d",
   "metadata": {},
   "outputs": [
    {
     "name": "stderr",
     "output_type": "stream",
     "text": [
      "/var/folders/03/k1p5_v6d69bg7b999gdktlgw0000gn/T/ipykernel_5030/2723740006.py:1: FutureWarning: The default value of numeric_only in DataFrame.std is deprecated. In a future version, it will default to False. In addition, specifying 'numeric_only=None' is deprecated. Select only valid columns or specify the value of numeric_only to silence this warning.\n",
      "  data.std()\n"
     ]
    },
    {
     "data": {
      "text/plain": [
       "total_bill    8.902412\n",
       "tip           1.383638\n",
       "size          0.951100\n",
       "dtype: float64"
      ]
     },
     "execution_count": 23,
     "metadata": {},
     "output_type": "execute_result"
    }
   ],
   "source": [
    "data.std()"
   ]
  },
  {
   "cell_type": "markdown",
   "id": "8cc9d860",
   "metadata": {},
   "source": [
    "## Variance"
   ]
  },
  {
   "cell_type": "code",
   "execution_count": 24,
   "id": "b0a41f14",
   "metadata": {},
   "outputs": [
    {
     "name": "stderr",
     "output_type": "stream",
     "text": [
      "/var/folders/03/k1p5_v6d69bg7b999gdktlgw0000gn/T/ipykernel_5030/445316826.py:1: FutureWarning: The default value of numeric_only in DataFrame.var is deprecated. In a future version, it will default to False. In addition, specifying 'numeric_only=None' is deprecated. Select only valid columns or specify the value of numeric_only to silence this warning.\n",
      "  data.var()\n"
     ]
    },
    {
     "data": {
      "text/plain": [
       "total_bill    79.252939\n",
       "tip            1.914455\n",
       "size           0.904591\n",
       "dtype: float64"
      ]
     },
     "execution_count": 24,
     "metadata": {},
     "output_type": "execute_result"
    }
   ],
   "source": [
    "data.var()"
   ]
  },
  {
   "cell_type": "markdown",
   "id": "2708501e",
   "metadata": {},
   "source": [
    "## Scaling"
   ]
  },
  {
   "cell_type": "code",
   "execution_count": 25,
   "id": "1c9ce8ba",
   "metadata": {},
   "outputs": [],
   "source": [
    "from sklearn.preprocessing import StandardScaler\n",
    "scale = StandardScaler()"
   ]
  },
  {
   "cell_type": "code",
   "execution_count": 26,
   "id": "3a7a7b4c",
   "metadata": {},
   "outputs": [],
   "source": [
    "x = data[['tip', 'total_bill']]"
   ]
  },
  {
   "cell_type": "code",
   "execution_count": 27,
   "id": "e2caab1f",
   "metadata": {},
   "outputs": [
    {
     "data": {
      "text/html": [
       "<div>\n",
       "<style scoped>\n",
       "    .dataframe tbody tr th:only-of-type {\n",
       "        vertical-align: middle;\n",
       "    }\n",
       "\n",
       "    .dataframe tbody tr th {\n",
       "        vertical-align: top;\n",
       "    }\n",
       "\n",
       "    .dataframe thead th {\n",
       "        text-align: right;\n",
       "    }\n",
       "</style>\n",
       "<table border=\"1\" class=\"dataframe\">\n",
       "  <thead>\n",
       "    <tr style=\"text-align: right;\">\n",
       "      <th></th>\n",
       "      <th>tip</th>\n",
       "      <th>total_bill</th>\n",
       "    </tr>\n",
       "  </thead>\n",
       "  <tbody>\n",
       "    <tr>\n",
       "      <th>0</th>\n",
       "      <td>1.01</td>\n",
       "      <td>16.99</td>\n",
       "    </tr>\n",
       "    <tr>\n",
       "      <th>1</th>\n",
       "      <td>1.66</td>\n",
       "      <td>10.34</td>\n",
       "    </tr>\n",
       "    <tr>\n",
       "      <th>2</th>\n",
       "      <td>3.50</td>\n",
       "      <td>21.01</td>\n",
       "    </tr>\n",
       "    <tr>\n",
       "      <th>3</th>\n",
       "      <td>3.31</td>\n",
       "      <td>23.68</td>\n",
       "    </tr>\n",
       "    <tr>\n",
       "      <th>4</th>\n",
       "      <td>3.61</td>\n",
       "      <td>24.59</td>\n",
       "    </tr>\n",
       "  </tbody>\n",
       "</table>\n",
       "</div>"
      ],
      "text/plain": [
       "    tip  total_bill\n",
       "0  1.01       16.99\n",
       "1  1.66       10.34\n",
       "2  3.50       21.01\n",
       "3  3.31       23.68\n",
       "4  3.61       24.59"
      ]
     },
     "execution_count": 27,
     "metadata": {},
     "output_type": "execute_result"
    }
   ],
   "source": [
    "x.head()"
   ]
  },
  {
   "cell_type": "code",
   "execution_count": 28,
   "id": "1e829b72",
   "metadata": {},
   "outputs": [
    {
     "data": {
      "text/plain": [
       "array([[-1.43994695e+00, -3.14711305e-01],\n",
       "       [-9.69205340e-01, -1.06323531e+00],\n",
       "       [ 3.63355539e-01,  1.37779900e-01],\n",
       "       [ 2.25754144e-01,  4.38315103e-01],\n",
       "       [ 4.43019505e-01,  5.40744704e-01],\n",
       "       [ 1.23965916e+00,  6.19536705e-01],\n",
       "       [-7.22971264e-01, -1.23995452e+00],\n",
       "       [ 8.81527488e-02,  7.98507107e-01],\n",
       "       [-7.51939979e-01, -5.34203307e-01],\n",
       "       [ 1.67816714e-01, -5.63468908e-01],\n",
       "       [-9.32994446e-01, -1.07111451e+00],\n",
       "       [ 1.44968234e+00,  1.74175992e+00],\n",
       "       [-1.03438495e+00, -4.91430507e-01],\n",
       "       [ 1.24660453e-03, -1.52624903e-01],\n",
       "       [ 1.57309619e-02, -5.57840908e-01],\n",
       "       [ 6.67527044e-01,  2.01939101e-01],\n",
       "       [-9.61963161e-01, -1.06436091e+00],\n",
       "       [ 5.15441291e-01, -3.93503306e-01],\n",
       "       [ 3.63355539e-01, -3.16962505e-01],\n",
       "       [ 2.54722859e-01,  9.72582994e-02],\n",
       "       [ 7.83401903e-01, -2.10030504e-01],\n",
       "       [-1.79807863e-01,  5.67366990e-02],\n",
       "       [-5.56401155e-01, -4.52034507e-01],\n",
       "       [ 3.31816444e+00,  2.21000952e+00],\n",
       "       [ 1.31605821e-01,  3.83349840e-03],\n",
       "       [-4.76737189e-01, -2.22412104e-01],\n",
       "       [-7.22971264e-01, -7.22178510e-01],\n",
       "       [-7.22971264e-01, -7.98719310e-01],\n",
       "       [ 9.42729834e-01,  2.15446301e-01],\n",
       "       [ 1.24660453e-03, -1.53017018e-02],\n",
       "       [-1.12129109e+00, -1.15215771e+00],\n",
       "       [-3.60862330e-01, -1.61629703e-01],\n",
       "       [ 1.24660453e-03, -5.31952107e-01],\n",
       "       [-3.97073223e-01,  1.01760699e-01],\n",
       "       [ 1.96785429e-01, -2.25788904e-01],\n",
       "       [ 4.35777326e-01,  4.81087904e-01],\n",
       "       [-7.22971264e-01, -3.91252106e-01],\n",
       "       [ 5.19418554e-02, -3.21464905e-01],\n",
       "       [-4.98463725e-01, -1.23359303e-01],\n",
       "       [ 1.44968234e+00,  1.29264551e+00],\n",
       "       [-5.49158976e-01, -4.21643306e-01],\n",
       "       [-3.31893615e-01, -2.61808105e-01],\n",
       "       [ 4.46996767e-02, -6.58019309e-01],\n",
       "       [-1.21543942e+00, -1.13752491e+00],\n",
       "       [ 1.88421306e+00,  1.19471831e+00],\n",
       "       [ 1.24660453e-03, -1.68383303e-01],\n",
       "       [ 1.44968234e+00,  2.75103101e-01],\n",
       "       [ 2.17390021e+00,  1.41983831e+00],\n",
       "       [-6.86760371e-01,  9.86482309e-01],\n",
       "       [ 1.24660453e-03, -1.96523304e-01],\n",
       "       [-3.60862330e-01, -8.15603311e-01],\n",
       "       [-2.88440543e-01, -1.06886331e+00],\n",
       "       [ 1.59452592e+00,  1.69110792e+00],\n",
       "       [-1.04162713e+00, -1.10825931e+00],\n",
       "       [ 9.71698549e-01,  6.49927905e-01],\n",
       "       [ 3.70597718e-01, -3.33113020e-02],\n",
       "       [ 1.24660453e-03,  2.05129992e+00],\n",
       "       [-1.08508020e+00,  7.45603907e-01],\n",
       "       [-8.96783553e-01, -9.61931312e-01],\n",
       "       [ 2.70257926e+00,  3.20616553e+00],\n",
       "       [ 1.53332357e-01,  5.67366990e-02],\n",
       "       [-7.22971264e-01, -6.72652109e-01],\n",
       "       [-7.37455622e-01, -9.86694512e-01],\n",
       "       [ 5.51652185e-01, -1.68383303e-01],\n",
       "       [-2.59471828e-01, -2.47175304e-01],\n",
       "       [ 1.09879285e-01,  3.30990987e-02],\n",
       "       [-3.82588866e-01, -3.75493706e-01],\n",
       "       [-1.44718913e+00, -1.88154652e+00],\n",
       "       [-7.15729086e-01,  4.99830989e-02],\n",
       "       [-6.57791656e-01, -5.37580108e-01],\n",
       "       [-7.44697800e-01, -8.74134511e-01],\n",
       "       [ 1.24660453e-03, -3.05706505e-01],\n",
       "       [ 1.02637106e-01,  7.96255907e-01],\n",
       "       [ 1.44968234e+00,  6.18411105e-01],\n",
       "       [-5.78127691e-01, -5.69096908e-01],\n",
       "       [-1.26613467e+00, -1.04410011e+00],\n",
       "       [ 5.91840340e-02, -2.10030504e-01],\n",
       "       [ 7.25464473e-01,  8.34526308e-01],\n",
       "       [ 1.24660453e-03,  3.34759902e-01],\n",
       "       [-2.08776577e-01, -2.80943305e-01],\n",
       "       [ 1.24660453e-03, -3.89393021e-02],\n",
       "       [ 2.90933752e-01, -3.51856105e-01],\n",
       "       [-8.46088302e-01, -1.09362651e+00],\n",
       "       [ 1.44968234e+00,  1.45135511e+00],\n",
       "       [-7.01244728e-01, -4.28396906e-01],\n",
       "       [ 1.57279938e+00,  1.69335912e+00],\n",
       "       [-7.22971264e-01, -7.60448910e-01],\n",
       "       [ 7.25464473e-01, -1.69508903e-01],\n",
       "       [ 2.06526753e+00,  5.54251904e-01],\n",
       "       [ 1.24660453e-03,  1.54663900e-01],\n",
       "       [ 1.24660453e-03,  1.03375751e+00],\n",
       "       [ 3.63355539e-01,  3.04368702e-01],\n",
       "       [-1.44718913e+00, -1.57988572e+00],\n",
       "       [ 9.42729834e-01, -3.90126506e-01],\n",
       "       [ 1.82301072e-01,  3.33634302e-01],\n",
       "       [ 1.25414352e+00,  2.29442952e+00],\n",
       "       [ 7.25464473e-01,  8.43531108e-01],\n",
       "       [-1.08508020e+00, -8.73008911e-01],\n",
       "       [ 1.24660453e-03,  1.37779900e-01],\n",
       "       [-1.08508020e+00, -8.24608111e-01],\n",
       "       [-3.60862330e-01, -9.49549712e-01],\n",
       "       [ 1.24660453e-03, -4.95932907e-01],\n",
       "       [-3.60862330e-01,  2.75930233e+00],\n",
       "       [ 3.48871182e-01,  2.96489502e-01],\n",
       "       [ 7.83401903e-01,  1.27649500e-01],\n",
       "       [-9.83689697e-01, -4.98184107e-01],\n",
       "       [ 7.68917546e-01,  7.92486992e-02],\n",
       "       [ 9.35487655e-01,  6.10531905e-01],\n",
       "       [ 5.51652185e-01, -1.74011304e-01],\n",
       "       [ 7.25464473e-01, -6.16372108e-01],\n",
       "       [ 1.24660453e-03, -6.51265709e-01],\n",
       "       [-1.44718913e+00, -1.41104572e+00],\n",
       "       [ 7.25464473e-01,  2.05805352e+00],\n",
       "       [-3.24651436e-01,  4.68706304e-01],\n",
       "       [ 7.25464473e-01,  6.66811906e-01],\n",
       "       [ 3.63355539e-01, -2.78692105e-01],\n",
       "       [ 1.50037759e+00,  1.14181511e+00],\n",
       "       [-1.08508020e+00, -1.02834171e+00],\n",
       "       [-8.67814838e-01, -8.27984911e-01],\n",
       "       [-5.66908250e-02,  4.83339104e-01],\n",
       "       [-4.98463725e-01, -9.11279312e-01],\n",
       "       [-9.54720982e-01, -7.16550509e-01],\n",
       "       [-3.60862330e-01, -6.22000108e-01],\n",
       "       [-7.22971264e-01, -4.31773706e-01],\n",
       "       [-3.46377973e-01, -8.22356911e-01],\n",
       "       [ 8.70308047e-01,  1.12718231e+00],\n",
       "       [-1.09956456e+00, -1.26809452e+00],\n",
       "       [-7.22971264e-01, -5.92734508e-01],\n",
       "       [-7.22971264e-01, -9.46172912e-01],\n",
       "       [-5.92612048e-01,  3.41513502e-01],\n",
       "       [-1.08508020e+00, -7.94609025e-02],\n",
       "       [-1.21870433e-01,  5.44854990e-02],\n",
       "       [-1.08508020e+00, -9.69810512e-01],\n",
       "       [-7.22971264e-01, -8.47120111e-01],\n",
       "       [ 1.82301072e-01, -1.71760104e-01],\n",
       "       [-1.26613467e+00, -1.26922012e+00],\n",
       "       [-7.22971264e-01, -1.06436091e+00],\n",
       "       [-7.22971264e-01, -6.34381709e-01],\n",
       "       [-7.22971264e-01, -4.26145706e-01],\n",
       "       [-1.79807863e-01, -7.45816110e-01],\n",
       "       [ 3.63355539e-01, -2.60682504e-01],\n",
       "       [ 2.68085272e+00,  1.63370232e+00],\n",
       "       [ 1.44968234e+00,  2.40924072e+00],\n",
       "       [ 1.44968234e+00,  8.17642307e-01],\n",
       "       [-5.05705904e-01, -3.77744906e-01],\n",
       "       [-1.08508020e+00, -1.28722972e+00],\n",
       "       [-1.18647070e+00, -1.28987303e-01],\n",
       "       [-9.90931876e-01, -8.91018511e-01],\n",
       "       [-9.18510089e-01, -1.12626891e+00],\n",
       "       [-7.22971264e-01, -1.38178012e+00],\n",
       "       [-3.60862330e-01, -6.43386509e-01],\n",
       "       [-7.22971264e-01, -7.49192910e-01],\n",
       "       [-1.87050041e-01, -2.84320105e-01],\n",
       "       [-7.22971264e-01,  5.36242304e-01],\n",
       "       [-7.22971264e-01, -1.79450166e-03],\n",
       "       [ 1.55107284e+00,  1.13281031e+00],\n",
       "       [ 1.44968234e+00,  3.19490953e+00],\n",
       "       [ 5.44410006e-01,  5.86894305e-01],\n",
       "       [-2.81198364e-01, -7.19927310e-01],\n",
       "       [-7.22971264e-01, -3.70991306e-01],\n",
       "       [ 3.63355539e-01,  1.92934300e-01],\n",
       "       [-3.60862330e-01, -8.02096110e-01],\n",
       "       [-7.22971264e-01, -4.02508106e-01],\n",
       "       [-7.22971264e-01, -6.72652109e-01],\n",
       "       [ 1.24660453e-03, -2.56180104e-01],\n",
       "       [ 3.48871182e-01,  5.32865504e-01],\n",
       "       [-5.49158976e-01,  1.09639900e-01],\n",
       "       [ 1.08757341e+00,  1.34217191e+00],\n",
       "       [-1.00541623e+00, -1.03509531e+00],\n",
       "       [-7.22971264e-01, -1.03059291e+00],\n",
       "       [ 5.07077169e+00,  3.49206794e+00],\n",
       "       [ 1.17121464e-01, -4.47532107e-01],\n",
       "       [ 1.55831502e+00, -1.41104572e+00],\n",
       "       [ 1.31605821e-01,  1.35793031e+00],\n",
       "       [ 7.25464473e-01, -3.33846505e-01],\n",
       "       [ 8.09105701e-02,  1.47611831e+00],\n",
       "       [-7.22971264e-01, -2.13407304e-01],\n",
       "       [-7.22971264e-01, -5.97236908e-01],\n",
       "       [ 7.25464473e-01, -1.14652971e+00],\n",
       "       [ 3.99566432e-01,  1.67084712e+00],\n",
       "       [ 4.93714755e-01,  1.67309832e+00],\n",
       "       [ 1.92042396e+00,  3.98919103e-01],\n",
       "       [ 3.63355539e-01,  2.87749033e+00],\n",
       "       [ 2.53600915e+00,  3.80909503e-01],\n",
       "       [ 1.24660453e-03,  2.33720232e+00],\n",
       "       [ 1.44968234e+00,  1.01760699e-01],\n",
       "       [ 3.63355539e-01,  1.25398300e-01],\n",
       "       [-7.22971264e-01,  1.20147191e+00],\n",
       "       [ 3.63355539e-01, -1.84141704e-01],\n",
       "       [ 7.25464473e-01,  3.73030302e-01],\n",
       "       [-1.08508020e+00, -4.61039307e-01],\n",
       "       [ 8.63065869e-01,  2.70789839e-03],\n",
       "       [-3.17409258e-01,  9.74100709e-01],\n",
       "       [-7.08486907e-01, -4.84676907e-01],\n",
       "       [ 7.25464473e-01, -3.60860906e-01],\n",
       "       [-1.12853327e+00, -1.37615212e+00],\n",
       "       [-7.22971264e-01, -1.06323531e+00],\n",
       "       [ 1.44968234e+00,  2.62535593e+00],\n",
       "       [-7.22971264e-01, -7.63825710e-01],\n",
       "       [-7.22971264e-01, -7.06420109e-01],\n",
       "       [ 7.25464473e-01, -1.21108103e-01],\n",
       "       [-7.15729086e-01, -7.93091310e-01],\n",
       "       [-7.22971264e-01, -7.63825710e-01],\n",
       "       [-3.60862330e-01, -3.81121706e-01],\n",
       "       [ 7.25464473e-01,  8.37510993e-02],\n",
       "       [ 1.67816714e-01, -3.73242506e-01],\n",
       "       [ 2.98175931e-01,  7.65864707e-01],\n",
       "       [ 1.24660453e-03,  2.13234312e+00],\n",
       "       [-7.01244728e-01,  5.04725504e-01],\n",
       "       [-5.56401155e-01, -7.90840110e-01],\n",
       "       [-7.22971264e-01,  1.15644791e+00],\n",
       "       [ 1.56555720e+00,  6.87072706e-01],\n",
       "       [ 4.34655382e+00,  3.21291913e+00],\n",
       "       [-3.60862330e-01, -7.33434510e-01],\n",
       "       [ 2.53600915e+00,  9.43709509e-01],\n",
       "       [-1.37476735e+00, -7.75081710e-01],\n",
       "       [ 1.24660453e-03,  9.41458309e-01],\n",
       "       [-1.08508020e+00, -9.22535312e-01],\n",
       "       [-1.12853327e+00, -1.35589132e+00],\n",
       "       [ 6.64262127e-02,  1.16545271e+00],\n",
       "       [-5.78127691e-01, -8.58376111e-01],\n",
       "       [ 3.48871182e-01, -7.16550509e-01],\n",
       "       [-7.80908694e-01, -1.26134092e+00],\n",
       "       [ 1.24660453e-03, -4.28396906e-01],\n",
       "       [-1.02714277e+00, -7.16550509e-01],\n",
       "       [-3.60862330e-01, -3.95754506e-01],\n",
       "       [-7.22971264e-01, -1.09137531e+00],\n",
       "       [ 1.24660453e-03,  7.47462992e-02],\n",
       "       [-2.01534399e-01, -7.32308910e-01],\n",
       "       [-8.56595397e-02,  2.62721501e-01],\n",
       "       [-7.22971264e-01,  4.75459904e-01],\n",
       "       [ 1.24660453e-03, -4.61039307e-01],\n",
       "       [ 2.83691573e-01, -9.20284112e-01],\n",
       "       [-1.10680673e+00, -1.01483451e+00],\n",
       "       [ 1.24660453e-03, -4.79048907e-01],\n",
       "       [-1.26613467e+00, -1.09362651e+00],\n",
       "       [-1.44718913e+00, -8.08849711e-01],\n",
       "       [-1.32407210e+00,  1.46823911e+00],\n",
       "       [ 1.21069045e+00,  1.80591912e+00],\n",
       "       [ 2.11596278e+00,  1.04051111e+00],\n",
       "       [-7.22971264e-01,  8.32275107e-01],\n",
       "       [-7.22971264e-01,  3.24629502e-01],\n",
       "       [-9.04025732e-01, -2.21286504e-01],\n",
       "       [ 1.24660453e-03, -1.13228903e-01]])"
      ]
     },
     "execution_count": 28,
     "metadata": {},
     "output_type": "execute_result"
    }
   ],
   "source": [
    "st_scale = scale.fit_transform(x)\n",
    "st_scale"
   ]
  },
  {
   "cell_type": "markdown",
   "id": "fd19330e",
   "metadata": {},
   "source": [
    "## Normalization"
   ]
  },
  {
   "cell_type": "code",
   "execution_count": 29,
   "id": "d6c073b1",
   "metadata": {},
   "outputs": [],
   "source": [
    "from sklearn.preprocessing import MinMaxScaler\n",
    "minmaxscale = MinMaxScaler()"
   ]
  },
  {
   "cell_type": "code",
   "execution_count": 30,
   "id": "56d6eb98",
   "metadata": {},
   "outputs": [
    {
     "data": {
      "text/plain": [
       "array([[0.00111111, 0.29157939],\n",
       "       [0.07333333, 0.1522832 ],\n",
       "       [0.27777778, 0.3757855 ],\n",
       "       [0.25666667, 0.43171345],\n",
       "       [0.29      , 0.45077503],\n",
       "       [0.41222222, 0.46543779],\n",
       "       [0.11111111, 0.11939673],\n",
       "       [0.23555556, 0.49874319],\n",
       "       [0.10666667, 0.25073314],\n",
       "       [0.24777778, 0.24528697],\n",
       "       [0.07888889, 0.15081693],\n",
       "       [0.44444444, 0.67427734],\n",
       "       [0.06333333, 0.25869292],\n",
       "       [0.22222222, 0.32174277],\n",
       "       [0.22444444, 0.24633431],\n",
       "       [0.32444444, 0.38772518],\n",
       "       [0.07444444, 0.15207373],\n",
       "       [0.30111111, 0.27691663],\n",
       "       [0.27777778, 0.29116045],\n",
       "       [0.26111111, 0.36824466],\n",
       "       [0.34222222, 0.31105991],\n",
       "       [0.19444444, 0.36070381],\n",
       "       [0.13666667, 0.2660243 ],\n",
       "       [0.73111111, 0.761416  ],\n",
       "       [0.24222222, 0.35085882],\n",
       "       [0.14888889, 0.30875576],\n",
       "       [0.11111111, 0.21575199],\n",
       "       [0.11111111, 0.20150817],\n",
       "       [0.36666667, 0.39023879],\n",
       "       [0.22222222, 0.34729786],\n",
       "       [0.05      , 0.13573523],\n",
       "       [0.16666667, 0.32006703],\n",
       "       [0.22222222, 0.25115207],\n",
       "       [0.16111111, 0.36908253],\n",
       "       [0.25222222, 0.30812736],\n",
       "       [0.28888889, 0.43967323],\n",
       "       [0.11111111, 0.27733557],\n",
       "       [0.23      , 0.29032258],\n",
       "       [0.14555556, 0.32718894],\n",
       "       [0.44444444, 0.59069962],\n",
       "       [0.13777778, 0.27167993],\n",
       "       [0.17111111, 0.30142438],\n",
       "       [0.22888889, 0.22769166],\n",
       "       [0.03555556, 0.13845832],\n",
       "       [0.51111111, 0.57247591],\n",
       "       [0.22222222, 0.31881022],\n",
       "       [0.44444444, 0.40134059],\n",
       "       [0.55555556, 0.6143695 ],\n",
       "       [0.11666667, 0.53372434],\n",
       "       [0.22222222, 0.31357352],\n",
       "       [0.16666667, 0.19836615],\n",
       "       [0.17777778, 0.15123586],\n",
       "       [0.46666667, 0.66485128],\n",
       "       [0.06222222, 0.14390448],\n",
       "       [0.37111111, 0.47109342],\n",
       "       [0.27888889, 0.34394638],\n",
       "       [0.22222222, 0.73188102],\n",
       "       [0.05555556, 0.4888982 ],\n",
       "       [0.08444444, 0.17113532],\n",
       "       [0.63666667, 0.94679514],\n",
       "       [0.24555556, 0.36070381],\n",
       "       [0.11111111, 0.22496858],\n",
       "       [0.10888889, 0.16652702],\n",
       "       [0.30666667, 0.31881022],\n",
       "       [0.18222222, 0.30414747],\n",
       "       [0.23888889, 0.35630499],\n",
       "       [0.16333333, 0.28026812],\n",
       "       [0.        , 0.        ],\n",
       "       [0.11222222, 0.359447  ],\n",
       "       [0.12111111, 0.25010473],\n",
       "       [0.10777778, 0.18747382],\n",
       "       [0.22222222, 0.29325513],\n",
       "       [0.23777778, 0.49832426],\n",
       "       [0.44444444, 0.46522832],\n",
       "       [0.13333333, 0.24423963],\n",
       "       [0.02777778, 0.15584416],\n",
       "       [0.23111111, 0.31105991],\n",
       "       [0.33333333, 0.50544617],\n",
       "       [0.22222222, 0.4124424 ],\n",
       "       [0.19      , 0.29786343],\n",
       "       [0.22222222, 0.34289904],\n",
       "       [0.26666667, 0.28466695],\n",
       "       [0.09222222, 0.14662757],\n",
       "       [0.44444444, 0.6202346 ],\n",
       "       [0.11444444, 0.27042313],\n",
       "       [0.46333333, 0.66527021],\n",
       "       [0.11111111, 0.20863008],\n",
       "       [0.33333333, 0.31860075],\n",
       "       [0.53888889, 0.45328865],\n",
       "       [0.22222222, 0.37892752],\n",
       "       [0.22222222, 0.54252199],\n",
       "       [0.27777778, 0.40678676],\n",
       "       [0.        , 0.05613741],\n",
       "       [0.36666667, 0.27754504],\n",
       "       [0.25      , 0.41223293],\n",
       "       [0.41444444, 0.7771261 ],\n",
       "       [0.33333333, 0.50712191],\n",
       "       [0.05555556, 0.18768328],\n",
       "       [0.22222222, 0.3757855 ],\n",
       "       [0.05555556, 0.19669041],\n",
       "       [0.16666667, 0.17343946],\n",
       "       [0.22222222, 0.25785505],\n",
       "       [0.16666667, 0.86363636],\n",
       "       [0.27555556, 0.40532049],\n",
       "       [0.34222222, 0.37390029],\n",
       "       [0.07111111, 0.25743611],\n",
       "       [0.34      , 0.36489317],\n",
       "       [0.36555556, 0.46376204],\n",
       "       [0.30666667, 0.31776288],\n",
       "       [0.33333333, 0.23544198],\n",
       "       [0.22222222, 0.22894847],\n",
       "       [0.        , 0.0875576 ],\n",
       "       [0.33333333, 0.73313783],\n",
       "       [0.17222222, 0.43736908],\n",
       "       [0.33333333, 0.47423544],\n",
       "       [0.27777778, 0.29828236],\n",
       "       [0.45222222, 0.56263092],\n",
       "       [0.05555556, 0.15877671],\n",
       "       [0.08888889, 0.196062  ],\n",
       "       [0.21333333, 0.44009217],\n",
       "       [0.14555556, 0.18056137],\n",
       "       [0.07555556, 0.21679933],\n",
       "       [0.16666667, 0.23439464],\n",
       "       [0.11111111, 0.26979472],\n",
       "       [0.16888889, 0.19710934],\n",
       "       [0.35555556, 0.55990783],\n",
       "       [0.05333333, 0.11416003],\n",
       "       [0.11111111, 0.2398408 ],\n",
       "       [0.11111111, 0.17406787],\n",
       "       [0.13111111, 0.4136992 ],\n",
       "       [0.05555556, 0.33535819],\n",
       "       [0.20333333, 0.36028488],\n",
       "       [0.05555556, 0.16966904],\n",
       "       [0.11111111, 0.19250105],\n",
       "       [0.25      , 0.31818182],\n",
       "       [0.02777778, 0.11395057],\n",
       "       [0.11111111, 0.15207373],\n",
       "       [0.11111111, 0.23209049],\n",
       "       [0.11111111, 0.27084206],\n",
       "       [0.19444444, 0.21135316],\n",
       "       [0.27777778, 0.30163385],\n",
       "       [0.63333333, 0.65416841],\n",
       "       [0.44444444, 0.79849183],\n",
       "       [0.44444444, 0.50230415],\n",
       "       [0.14444444, 0.27984918],\n",
       "       [0.05555556, 0.11059908],\n",
       "       [0.04      , 0.3261416 ],\n",
       "       [0.07      , 0.1843318 ],\n",
       "       [0.08111111, 0.140553  ],\n",
       "       [0.11111111, 0.09300377],\n",
       "       [0.16666667, 0.23041475],\n",
       "       [0.11111111, 0.21072476],\n",
       "       [0.19333333, 0.29723502],\n",
       "       [0.11111111, 0.44993716],\n",
       "       [0.11111111, 0.34981148],\n",
       "       [0.46      , 0.56095517],\n",
       "       [0.44444444, 0.94470046],\n",
       "       [0.30555556, 0.45936322],\n",
       "       [0.17888889, 0.21617093],\n",
       "       [0.11111111, 0.28110599],\n",
       "       [0.27777778, 0.38604943],\n",
       "       [0.16666667, 0.20087977],\n",
       "       [0.11111111, 0.27524089],\n",
       "       [0.11111111, 0.22496858],\n",
       "       [0.22222222, 0.30247172],\n",
       "       [0.27555556, 0.44930876],\n",
       "       [0.13777778, 0.37054881],\n",
       "       [0.38888889, 0.59991621],\n",
       "       [0.06777778, 0.1575199 ],\n",
       "       [0.11111111, 0.15835777],\n",
       "       [1.        , 1.        ],\n",
       "       [0.24      , 0.26686217],\n",
       "       [0.46111111, 0.0875576 ],\n",
       "       [0.24222222, 0.60284876],\n",
       "       [0.33333333, 0.28801843],\n",
       "       [0.23444444, 0.6248429 ],\n",
       "       [0.11111111, 0.3104315 ],\n",
       "       [0.11111111, 0.23900293],\n",
       "       [0.33333333, 0.13678257],\n",
       "       [0.28333333, 0.66108085],\n",
       "       [0.29777778, 0.66149979],\n",
       "       [0.51666667, 0.42438207],\n",
       "       [0.27777778, 0.8856305 ],\n",
       "       [0.61111111, 0.42103058],\n",
       "       [0.22222222, 0.78508588],\n",
       "       [0.44444444, 0.36908253],\n",
       "       [0.27777778, 0.37348136],\n",
       "       [0.11111111, 0.57373272],\n",
       "       [0.27777778, 0.31587767],\n",
       "       [0.33333333, 0.41956431],\n",
       "       [0.05555556, 0.26434855],\n",
       "       [0.35444444, 0.35064935],\n",
       "       [0.17333333, 0.53142019],\n",
       "       [0.11333333, 0.25994973],\n",
       "       [0.33333333, 0.2829912 ],\n",
       "       [0.04888889, 0.09405111],\n",
       "       [0.11111111, 0.1522832 ],\n",
       "       [0.44444444, 0.83870968],\n",
       "       [0.11111111, 0.20800168],\n",
       "       [0.11111111, 0.21868454],\n",
       "       [0.33333333, 0.32760788],\n",
       "       [0.11222222, 0.20255551],\n",
       "       [0.11111111, 0.20800168],\n",
       "       [0.16666667, 0.27922078],\n",
       "       [0.33333333, 0.36573104],\n",
       "       [0.24777778, 0.28068705],\n",
       "       [0.26777778, 0.49266862],\n",
       "       [0.22222222, 0.74696271],\n",
       "       [0.11444444, 0.44407206],\n",
       "       [0.13666667, 0.20297444],\n",
       "       [0.11111111, 0.565354  ],\n",
       "       [0.46222222, 0.47800587],\n",
       "       [0.88888889, 0.94805195],\n",
       "       [0.16666667, 0.21365731],\n",
       "       [0.61111111, 0.52576456],\n",
       "       [0.01111111, 0.205907  ],\n",
       "       [0.22222222, 0.52534562],\n",
       "       [0.05555556, 0.17846669],\n",
       "       [0.04888889, 0.09782153],\n",
       "       [0.23222222, 0.56702974],\n",
       "       [0.13333333, 0.19040637],\n",
       "       [0.27555556, 0.21679933],\n",
       "       [0.10222222, 0.11541684],\n",
       "       [0.22222222, 0.27042313],\n",
       "       [0.06444444, 0.21679933],\n",
       "       [0.16666667, 0.2764977 ],\n",
       "       [0.11111111, 0.1470465 ],\n",
       "       [0.22222222, 0.3640553 ],\n",
       "       [0.19111111, 0.21386678],\n",
       "       [0.20888889, 0.39903645],\n",
       "       [0.11111111, 0.43862589],\n",
       "       [0.22222222, 0.26434855],\n",
       "       [0.26555556, 0.17888563],\n",
       "       [0.05222222, 0.16129032],\n",
       "       [0.22222222, 0.26099707],\n",
       "       [0.02777778, 0.14662757],\n",
       "       [0.        , 0.19962296],\n",
       "       [0.01888889, 0.62337662],\n",
       "       [0.40777778, 0.68621701],\n",
       "       [0.54666667, 0.5437788 ],\n",
       "       [0.11111111, 0.50502723],\n",
       "       [0.11111111, 0.41055718],\n",
       "       [0.08333333, 0.30896523],\n",
       "       [0.22222222, 0.32907415]])"
      ]
     },
     "execution_count": 30,
     "metadata": {},
     "output_type": "execute_result"
    }
   ],
   "source": [
    "norm_scale = minmaxscale.fit_transform(x)\n",
    "norm_scale"
   ]
  },
  {
   "cell_type": "markdown",
   "id": "ae50f9ee",
   "metadata": {},
   "source": [
    "## Robust Scaler"
   ]
  },
  {
   "cell_type": "code",
   "execution_count": 31,
   "id": "bf79cec3",
   "metadata": {},
   "outputs": [],
   "source": [
    "from sklearn.preprocessing import RobustScaler\n",
    "robustscale = RobustScaler()"
   ]
  },
  {
   "cell_type": "code",
   "execution_count": 32,
   "id": "fc28792f",
   "metadata": {},
   "outputs": [
    {
     "data": {
      "text/plain": [
       "array([[-1.20960000e+00, -7.46753247e-02],\n",
       "       [-7.93600000e-01, -6.91558442e-01],\n",
       "       [ 3.84000000e-01,  2.98237477e-01],\n",
       "       [ 2.62400000e-01,  5.45918367e-01],\n",
       "       [ 4.54400000e-01,  6.30333952e-01],\n",
       "       [ 1.15840000e+00,  6.95269017e-01],\n",
       "       [-5.76000000e-01, -8.37198516e-01],\n",
       "       [ 1.40800000e-01,  8.42764378e-01],\n",
       "       [-6.01600000e-01, -2.55565863e-01],\n",
       "       [ 2.11200000e-01, -2.79684601e-01],\n",
       "       [-7.61600000e-01, -6.98051948e-01],\n",
       "       [ 1.34400000e+00,  1.62012987e+00],\n",
       "       [-8.51200000e-01, -2.20315399e-01],\n",
       "       [ 6.40000000e-02,  5.89053803e-02],\n",
       "       [ 7.68000000e-02, -2.75046382e-01],\n",
       "       [ 6.52800000e-01,  3.51113173e-01],\n",
       "       [-7.87200000e-01, -6.92486085e-01],\n",
       "       [ 5.18400000e-01, -1.39610390e-01],\n",
       "       [ 3.84000000e-01, -7.65306122e-02],\n",
       "       [ 2.88000000e-01,  2.64842301e-01],\n",
       "       [ 7.55200000e-01,  1.15955473e-02],\n",
       "       [-9.60000000e-02,  2.31447124e-01],\n",
       "       [-4.28800000e-01, -1.87847866e-01],\n",
       "       [ 2.99520000e+00,  2.00602968e+00],\n",
       "       [ 1.79200000e-01,  1.87847866e-01],\n",
       "       [-3.58400000e-01,  1.39146568e-03],\n",
       "       [-5.76000000e-01, -4.10482375e-01],\n",
       "       [-5.76000000e-01, -4.73562152e-01],\n",
       "       [ 8.96000000e-01,  3.62244898e-01],\n",
       "       [ 6.40000000e-02,  1.72077922e-01],\n",
       "       [-9.28000000e-01, -7.64842301e-01],\n",
       "       [-2.56000000e-01,  5.14842301e-02],\n",
       "       [ 6.40000000e-02, -2.53710575e-01],\n",
       "       [-2.88000000e-01,  2.68552876e-01],\n",
       "       [ 2.36800000e-01, -1.39146568e-03],\n",
       "       [ 4.48000000e-01,  5.81168831e-01],\n",
       "       [-5.76000000e-01, -1.37755102e-01],\n",
       "       [ 1.08800000e-01, -8.02411874e-02],\n",
       "       [-3.77600000e-01,  8.30241187e-02],\n",
       "       [ 1.34400000e+00,  1.25000000e+00],\n",
       "       [-4.22400000e-01, -1.62801484e-01],\n",
       "       [-2.30400000e-01, -3.10760668e-02],\n",
       "       [ 1.02400000e-01, -3.57606679e-01],\n",
       "       [-1.01120000e+00, -7.52782931e-01],\n",
       "       [ 1.72800000e+00,  1.16929499e+00],\n",
       "       [ 6.40000000e-02,  4.59183673e-02],\n",
       "       [ 1.34400000e+00,  4.11410019e-01],\n",
       "       [ 1.98400000e+00,  1.35482375e+00],\n",
       "       [-5.44000000e-01,  9.97680891e-01],\n",
       "       [ 6.40000000e-02,  2.27272727e-02],\n",
       "       [-2.56000000e-01, -4.87476809e-01],\n",
       "       [-1.92000000e-01, -6.96196660e-01],\n",
       "       [ 1.47200000e+00,  1.57838590e+00],\n",
       "       [-8.57600000e-01, -7.28664193e-01],\n",
       "       [ 9.21600000e-01,  7.20315399e-01],\n",
       "       [ 3.90400000e-01,  1.57235622e-01],\n",
       "       [ 6.40000000e-02,  1.87523191e+00],\n",
       "       [-8.96000000e-01,  7.99165121e-01],\n",
       "       [-7.29600000e-01, -6.08070501e-01],\n",
       "       [ 2.45120000e+00,  2.82699443e+00],\n",
       "       [ 1.98400000e-01,  2.31447124e-01],\n",
       "       [-5.76000000e-01, -3.69666048e-01],\n",
       "       [-5.88800000e-01, -6.28478664e-01],\n",
       "       [ 5.50400000e-01,  4.59183673e-02],\n",
       "       [-1.66400000e-01, -1.90166976e-02],\n",
       "       [ 1.60000000e-01,  2.11966605e-01],\n",
       "       [-2.75200000e-01, -1.24768089e-01],\n",
       "       [-1.21600000e+00, -1.36595547e+00],\n",
       "       [-5.69600000e-01,  2.25881262e-01],\n",
       "       [-5.18400000e-01, -2.58348794e-01],\n",
       "       [-5.95200000e-01, -5.35714286e-01],\n",
       "       [ 6.40000000e-02, -6.72541744e-02],\n",
       "       [ 1.53600000e-01,  8.40909091e-01],\n",
       "       [ 1.34400000e+00,  6.94341373e-01],\n",
       "       [-4.48000000e-01, -2.84322820e-01],\n",
       "       [-1.05600000e+00, -6.75788497e-01],\n",
       "       [ 1.15200000e-01,  1.15955473e-02],\n",
       "       [ 7.04000000e-01,  8.72448980e-01],\n",
       "       [ 6.40000000e-02,  4.60575139e-01],\n",
       "       [-1.21600000e-01, -4.68460111e-02],\n",
       "       [ 6.40000000e-02,  1.52597403e-01],\n",
       "       [ 3.20000000e-01, -1.05287570e-01],\n",
       "       [-6.84800000e-01, -7.16604824e-01],\n",
       "       [ 1.34400000e+00,  1.38079777e+00],\n",
       "       [-5.56800000e-01, -1.68367347e-01],\n",
       "       [ 1.45280000e+00,  1.58024119e+00],\n",
       "       [-5.76000000e-01, -4.42022263e-01],\n",
       "       [ 7.04000000e-01,  4.49907236e-02],\n",
       "       [ 1.88800000e+00,  6.41465677e-01],\n",
       "       [ 6.40000000e-02,  3.12152134e-01],\n",
       "       [ 6.40000000e-02,  1.03664193e+00],\n",
       "       [ 3.84000000e-01,  4.35528757e-01],\n",
       "       [-1.21600000e+00, -1.11734694e+00],\n",
       "       [ 8.96000000e-01, -1.36827458e-01],\n",
       "       [ 2.24000000e-01,  4.59647495e-01],\n",
       "       [ 1.17120000e+00,  2.07560297e+00],\n",
       "       [ 7.04000000e-01,  8.79870130e-01],\n",
       "       [-8.96000000e-01, -5.34786642e-01],\n",
       "       [ 6.40000000e-02,  2.98237477e-01],\n",
       "       [-8.96000000e-01, -4.94897959e-01],\n",
       "       [-2.56000000e-01, -5.97866419e-01],\n",
       "       [ 6.40000000e-02, -2.24025974e-01],\n",
       "       [-2.56000000e-01,  2.45871985e+00],\n",
       "       [ 3.71200000e-01,  4.29035250e-01],\n",
       "       [ 7.55200000e-01,  2.89888683e-01],\n",
       "       [-8.06400000e-01, -2.25881262e-01],\n",
       "       [ 7.42400000e-01,  2.50000000e-01],\n",
       "       [ 8.89600000e-01,  6.87847866e-01],\n",
       "       [ 5.50400000e-01,  4.12801484e-02],\n",
       "       [ 7.04000000e-01, -3.23283859e-01],\n",
       "       [ 6.40000000e-02, -3.52040816e-01],\n",
       "       [-1.21600000e+00, -9.78200371e-01],\n",
       "       [ 7.04000000e-01,  1.88079777e+00],\n",
       "       [-2.24000000e-01,  5.70964750e-01],\n",
       "       [ 7.04000000e-01,  7.34230056e-01],\n",
       "       [ 3.84000000e-01, -4.49907236e-02],\n",
       "       [ 1.38880000e+00,  1.12569573e+00],\n",
       "       [-8.96000000e-01, -6.62801484e-01],\n",
       "       [-7.04000000e-01, -4.97680891e-01],\n",
       "       [ 1.28000000e-02,  5.83024119e-01],\n",
       "       [-3.77600000e-01, -5.66326531e-01],\n",
       "       [-7.80800000e-01, -4.05844156e-01],\n",
       "       [-2.56000000e-01, -3.27922078e-01],\n",
       "       [-5.76000000e-01, -1.71150278e-01],\n",
       "       [-2.43200000e-01, -4.93042672e-01],\n",
       "       [ 8.32000000e-01,  1.11363636e+00],\n",
       "       [-9.08800000e-01, -8.60389610e-01],\n",
       "       [-5.76000000e-01, -3.03803340e-01],\n",
       "       [-5.76000000e-01, -5.95083488e-01],\n",
       "       [-4.60800000e-01,  4.66141002e-01],\n",
       "       [-8.96000000e-01,  1.19202226e-01],\n",
       "       [-4.48000000e-02,  2.29591837e-01],\n",
       "       [-8.96000000e-01, -6.14564007e-01],\n",
       "       [-5.76000000e-01, -5.13450835e-01],\n",
       "       [ 2.24000000e-01,  4.31354360e-02],\n",
       "       [-1.05600000e+00, -8.61317254e-01],\n",
       "       [-5.76000000e-01, -6.92486085e-01],\n",
       "       [-5.76000000e-01, -3.38126160e-01],\n",
       "       [-5.76000000e-01, -1.66512059e-01],\n",
       "       [-9.60000000e-02, -4.29962894e-01],\n",
       "       [ 3.84000000e-01, -3.01484230e-02],\n",
       "       [ 2.43200000e+00,  1.53107607e+00],\n",
       "       [ 1.34400000e+00,  2.17022263e+00],\n",
       "       [ 1.34400000e+00,  8.58534323e-01],\n",
       "       [-3.84000000e-01, -1.26623377e-01],\n",
       "       [-8.96000000e-01, -8.76159555e-01],\n",
       "       [-9.85600000e-01,  7.83858998e-02],\n",
       "       [-8.12800000e-01, -5.49628942e-01],\n",
       "       [-7.48800000e-01, -7.43506494e-01],\n",
       "       [-5.76000000e-01, -9.54081633e-01],\n",
       "       [-2.56000000e-01, -3.45547310e-01],\n",
       "       [-5.76000000e-01, -4.32745826e-01],\n",
       "       [-1.02400000e-01, -4.96289425e-02],\n",
       "       [-5.76000000e-01,  6.26623377e-01],\n",
       "       [-5.76000000e-01,  1.83209647e-01],\n",
       "       [ 1.43360000e+00,  1.11827458e+00],\n",
       "       [ 1.34400000e+00,  2.81771800e+00],\n",
       "       [ 5.44000000e-01,  6.68367347e-01],\n",
       "       [-1.85600000e-01, -4.08627087e-01],\n",
       "       [-5.76000000e-01, -1.21057514e-01],\n",
       "       [ 3.84000000e-01,  3.43692022e-01],\n",
       "       [-2.56000000e-01, -4.76345083e-01],\n",
       "       [-5.76000000e-01, -1.47031540e-01],\n",
       "       [-5.76000000e-01, -3.69666048e-01],\n",
       "       [ 6.40000000e-02, -2.64378479e-02],\n",
       "       [ 3.71200000e-01,  6.23840445e-01],\n",
       "       [-4.22400000e-01,  2.75046382e-01],\n",
       "       [ 1.02400000e+00,  1.29081633e+00],\n",
       "       [-8.25600000e-01, -6.68367347e-01],\n",
       "       [-5.76000000e-01, -6.64656772e-01],\n",
       "       [ 4.54400000e+00,  3.06261596e+00],\n",
       "       [ 1.66400000e-01, -1.84137291e-01],\n",
       "       [ 1.44000000e+00, -9.78200371e-01],\n",
       "       [ 1.79200000e-01,  1.30380334e+00],\n",
       "       [ 7.04000000e-01, -9.04452690e-02],\n",
       "       [ 1.34400000e-01,  1.40120594e+00],\n",
       "       [-5.76000000e-01,  8.81261596e-03],\n",
       "       [-5.76000000e-01, -3.07513915e-01],\n",
       "       [ 7.04000000e-01, -7.60204082e-01],\n",
       "       [ 4.16000000e-01,  1.56168831e+00],\n",
       "       [ 4.99200000e-01,  1.56354360e+00],\n",
       "       [ 1.76000000e+00,  5.13450835e-01],\n",
       "       [ 3.84000000e-01,  2.55612245e+00],\n",
       "       [ 2.30400000e+00,  4.98608534e-01],\n",
       "       [ 6.40000000e-02,  2.11085343e+00],\n",
       "       [ 1.34400000e+00,  2.68552876e-01],\n",
       "       [ 3.84000000e-01,  2.88033395e-01],\n",
       "       [-5.76000000e-01,  1.17486085e+00],\n",
       "       [ 3.84000000e-01,  3.29313544e-02],\n",
       "       [ 7.04000000e-01,  4.92115028e-01],\n",
       "       [-8.96000000e-01, -1.95269017e-01],\n",
       "       [ 8.25600000e-01,  1.86920223e-01],\n",
       "       [-2.17600000e-01,  9.87476809e-01],\n",
       "       [-5.63200000e-01, -2.14749536e-01],\n",
       "       [ 7.04000000e-01, -1.12708720e-01],\n",
       "       [-9.34400000e-01, -9.49443414e-01],\n",
       "       [-5.76000000e-01, -6.91558442e-01],\n",
       "       [ 1.34400000e+00,  2.34833024e+00],\n",
       "       [-5.76000000e-01, -4.44805195e-01],\n",
       "       [-5.76000000e-01, -3.97495362e-01],\n",
       "       [ 7.04000000e-01,  8.48794063e-02],\n",
       "       [-5.69600000e-01, -4.68923933e-01],\n",
       "       [-5.76000000e-01, -4.44805195e-01],\n",
       "       [-2.56000000e-01, -1.29406308e-01],\n",
       "       [ 7.04000000e-01,  2.53710575e-01],\n",
       "       [ 2.11200000e-01, -1.22912801e-01],\n",
       "       [ 3.26400000e-01,  8.15862709e-01],\n",
       "       [ 6.40000000e-02,  1.94202226e+00],\n",
       "       [-5.56800000e-01,  6.00649351e-01],\n",
       "       [-4.28800000e-01, -4.67068646e-01],\n",
       "       [-5.76000000e-01,  1.13775510e+00],\n",
       "       [ 1.44640000e+00,  7.50927644e-01],\n",
       "       [ 3.90400000e+00,  2.83256030e+00],\n",
       "       [-2.56000000e-01, -4.19758813e-01],\n",
       "       [ 2.30400000e+00,  9.62430427e-01],\n",
       "       [-1.15200000e+00, -4.54081633e-01],\n",
       "       [ 6.40000000e-02,  9.60575139e-01],\n",
       "       [-8.96000000e-01, -5.75602968e-01],\n",
       "       [-9.34400000e-01, -9.32745826e-01],\n",
       "       [ 1.21600000e-01,  1.14517625e+00],\n",
       "       [-4.48000000e-01, -5.22727273e-01],\n",
       "       [ 3.71200000e-01, -4.05844156e-01],\n",
       "       [-6.27200000e-01, -8.54823748e-01],\n",
       "       [ 6.40000000e-02, -1.68367347e-01],\n",
       "       [-8.44800000e-01, -4.05844156e-01],\n",
       "       [-2.56000000e-01, -1.41465677e-01],\n",
       "       [-5.76000000e-01, -7.14749536e-01],\n",
       "       [ 6.40000000e-02,  2.46289425e-01],\n",
       "       [-1.15200000e-01, -4.18831169e-01],\n",
       "       [-1.28000000e-02,  4.01205937e-01],\n",
       "       [-5.76000000e-01,  5.76530612e-01],\n",
       "       [ 6.40000000e-02, -1.95269017e-01],\n",
       "       [ 3.13600000e-01, -5.73747681e-01],\n",
       "       [-9.15200000e-01, -6.51669759e-01],\n",
       "       [ 6.40000000e-02, -2.10111317e-01],\n",
       "       [-1.05600000e+00, -7.16604824e-01],\n",
       "       [-1.21600000e+00, -4.81910946e-01],\n",
       "       [-1.10720000e+00,  1.39471243e+00],\n",
       "       [ 1.13280000e+00,  1.67300557e+00],\n",
       "       [ 1.93280000e+00,  1.04220779e+00],\n",
       "       [-5.76000000e-01,  8.70593692e-01],\n",
       "       [-5.76000000e-01,  4.52226345e-01],\n",
       "       [-7.36000000e-01,  2.31910946e-03],\n",
       "       [ 6.40000000e-02,  9.13729128e-02]])"
      ]
     },
     "execution_count": 32,
     "metadata": {},
     "output_type": "execute_result"
    }
   ],
   "source": [
    "rob_scale = robustscale.fit_transform(x)\n",
    "rob_scale"
   ]
  },
  {
   "cell_type": "markdown",
   "id": "0b98be56",
   "metadata": {},
   "source": [
    "## Distribution"
   ]
  },
  {
   "cell_type": "markdown",
   "id": "4a3faa0c",
   "metadata": {},
   "source": [
    "### Uniform distribution"
   ]
  },
  {
   "cell_type": "code",
   "execution_count": 33,
   "id": "4dbb2096",
   "metadata": {},
   "outputs": [
    {
     "name": "stderr",
     "output_type": "stream",
     "text": [
      "/var/folders/03/k1p5_v6d69bg7b999gdktlgw0000gn/T/ipykernel_5030/3868814289.py:2: UserWarning: \n",
      "\n",
      "`distplot` is a deprecated function and will be removed in seaborn v0.14.0.\n",
      "\n",
      "Please adapt your code to use either `displot` (a figure-level function with\n",
      "similar flexibility) or `histplot` (an axes-level function for histograms).\n",
      "\n",
      "For a guide to updating your code to use the new functions, please see\n",
      "https://gist.github.com/mwaskom/de44147ed2974457ad6372750bbe5751\n",
      "\n",
      "  sns.distplot(rand)\n"
     ]
    },
    {
     "data": {
      "text/plain": [
       "<Axes: ylabel='Density'>"
      ]
     },
     "execution_count": 33,
     "metadata": {},
     "output_type": "execute_result"
    },
    {
     "data": {
      "image/png": "[encoded data removed]",
      "text/plain": [
       "<Figure size 640x480 with 1 Axes>"
      ]
     },
     "metadata": {},
     "output_type": "display_data"
    }
   ],
   "source": [
    "rand = np.random.rand(1000)\n",
    "sns.distplot(rand)"
   ]
  },
  {
   "cell_type": "markdown",
   "id": "5ce7fc30",
   "metadata": {},
   "source": [
    "### Exponential distribution"
   ]
  },
  {
   "cell_type": "code",
   "execution_count": 34,
   "id": "8e06d066",
   "metadata": {},
   "outputs": [
    {
     "name": "stderr",
     "output_type": "stream",
     "text": [
      "/var/folders/03/k1p5_v6d69bg7b999gdktlgw0000gn/T/ipykernel_5030/1300547632.py:1: UserWarning: \n",
      "\n",
      "`distplot` is a deprecated function and will be removed in seaborn v0.14.0.\n",
      "\n",
      "Please adapt your code to use either `displot` (a figure-level function with\n",
      "similar flexibility) or `histplot` (an axes-level function for histograms).\n",
      "\n",
      "For a guide to updating your code to use the new functions, please see\n",
      "https://gist.github.com/mwaskom/de44147ed2974457ad6372750bbe5751\n",
      "\n",
      "  sns.distplot(np.log(rand))\n"
     ]
    },
    {
     "data": {
      "text/plain": [
       "<Axes: ylabel='Density'>"
      ]
     },
     "execution_count": 34,
     "metadata": {},
     "output_type": "execute_result"
    },
    {
     "data": {
      "image/png": "[encoded data removed]",
      "text/plain": [
       "<Figure size 640x480 with 1 Axes>"
      ]
     },
     "metadata": {},
     "output_type": "display_data"
    }
   ],
   "source": [
    "sns.distplot(np.log(rand))"
   ]
  },
  {
   "cell_type": "markdown",
   "id": "e787cbbf",
   "metadata": {},
   "source": [
    "### Normal distribution"
   ]
  },
  {
   "cell_type": "code",
   "execution_count": 35,
   "id": "236b6c7d",
   "metadata": {},
   "outputs": [
    {
     "name": "stderr",
     "output_type": "stream",
     "text": [
      "/var/folders/03/k1p5_v6d69bg7b999gdktlgw0000gn/T/ipykernel_5030/805800272.py:1: UserWarning: \n",
      "\n",
      "`distplot` is a deprecated function and will be removed in seaborn v0.14.0.\n",
      "\n",
      "Please adapt your code to use either `displot` (a figure-level function with\n",
      "similar flexibility) or `histplot` (an axes-level function for histograms).\n",
      "\n",
      "For a guide to updating your code to use the new functions, please see\n",
      "https://gist.github.com/mwaskom/de44147ed2974457ad6372750bbe5751\n",
      "\n",
      "  sns.distplot(data.total_bill)\n"
     ]
    },
    {
     "data": {
      "text/plain": [
       "<Axes: xlabel='total_bill', ylabel='Density'>"
      ]
     },
     "execution_count": 35,
     "metadata": {},
     "output_type": "execute_result"
    },
    {
     "data": {
      "image/png": "[encoded data removed]",
      "text/plain": [
       "<Figure size 640x480 with 1 Axes>"
      ]
     },
     "metadata": {},
     "output_type": "display_data"
    }
   ],
   "source": [
    "sns.distplot(data.total_bill)"
   ]
  },
  {
   "cell_type": "markdown",
   "id": "023171fd",
   "metadata": {},
   "source": [
    "## Central limit theorem\n",
    "The central limit theorem says that the sampling distribution of the mean will always be normally distributed, as long as the sample size is large enough."
   ]
  },
  {
   "cell_type": "code",
   "execution_count": 36,
   "id": "12d715dd",
   "metadata": {},
   "outputs": [
    {
     "data": {
      "text/plain": [
       "0.5124591034716817"
      ]
     },
     "execution_count": 36,
     "metadata": {},
     "output_type": "execute_result"
    }
   ],
   "source": [
    "np.mean(np.random.uniform(0,1, 100))"
   ]
  },
  {
   "cell_type": "code",
   "execution_count": 37,
   "id": "bdf2c117",
   "metadata": {},
   "outputs": [],
   "source": [
    "sample = lambda: np.mean(np.random.uniform(0,1, 100))"
   ]
  },
  {
   "cell_type": "code",
   "execution_count": 38,
   "id": "b057dad2",
   "metadata": {},
   "outputs": [
    {
     "name": "stderr",
     "output_type": "stream",
     "text": [
      "/var/folders/03/k1p5_v6d69bg7b999gdktlgw0000gn/T/ipykernel_5030/3349669341.py:2: UserWarning: \n",
      "\n",
      "`distplot` is a deprecated function and will be removed in seaborn v0.14.0.\n",
      "\n",
      "Please adapt your code to use either `displot` (a figure-level function with\n",
      "similar flexibility) or `histplot` (an axes-level function for histograms).\n",
      "\n",
      "For a guide to updating your code to use the new functions, please see\n",
      "https://gist.github.com/mwaskom/de44147ed2974457ad6372750bbe5751\n",
      "\n",
      "  sns.distplot(x)\n"
     ]
    },
    {
     "data": {
      "text/plain": [
       "<Axes: ylabel='Density'>"
      ]
     },
     "execution_count": 38,
     "metadata": {},
     "output_type": "execute_result"
    },
    {
     "data": {
      "image/png": "[encoded data removed]",
      "text/plain": [
       "<Figure size 640x480 with 1 Axes>"
      ]
     },
     "metadata": {},
     "output_type": "display_data"
    }
   ],
   "source": [
    "x = [sample() for _ in range(1000)]\n",
    "sns.distplot(x)"
   ]
  }
 ],
 "metadata": {
  "kernelspec": {
   "display_name": "Python 3 (ipykernel)",
   "language": "python",
   "name": "python3"
  },
  "language_info": {
   "codemirror_mode": {
    "name": "ipython",
    "version": 3
   },
   "file_extension": ".py",
   "mimetype": "text/x-python",
   "name": "python",
   "nbconvert_exporter": "python",
   "pygments_lexer": "ipython3",
   "version": "3.10.9"
  }
 },
 "nbformat": 4,
 "nbformat_minor": 5
}
